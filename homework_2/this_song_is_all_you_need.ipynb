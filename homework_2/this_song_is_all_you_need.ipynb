{
 "cells": [
  {
   "cell_type": "code",
   "execution_count": 1,
   "metadata": {
    "pycharm": {
     "name": "#%%\n"
    }
   },
   "outputs": [],
   "source": [
    "from dataset import DatasetBuilder\n",
    "\n",
    "import numpy as np\n",
    "from catboost import CatBoostRanker, cv\n",
    "\n",
    "# sns.set_theme(rc={\"figure.figsize\": (25, 10)})\n",
    "\n",
    "%matplotlib inline\n",
    "%load_ext autoreload\n",
    "%autoreload 2"
   ]
  },
  {
   "cell_type": "code",
   "execution_count": 2,
   "metadata": {
    "pycharm": {
     "name": "#%%\n"
    }
   },
   "outputs": [
    {
     "name": "stdout",
     "output_type": "stream",
     "text": [
      "Reading data...\n",
      "Joining all data into one single table...\n",
      "Processing categorical features...\n"
     ]
    }
   ],
   "source": [
    "dataset_builder = DatasetBuilder(\"data\")\n",
    "dataset = dataset_builder.build_dataset()"
   ]
  },
  {
   "cell_type": "code",
   "execution_count": 3,
   "metadata": {
    "pycharm": {
     "name": "#%%\n"
    }
   },
   "outputs": [
    {
     "name": "stdout",
     "output_type": "stream",
     "text": [
      "Categorical features: source_system_tab, source_screen_name, source_type, city, gender, registered_via, genre_ids, language\n"
     ]
    },
    {
     "data": {
      "text/html": [
       "<div>\n",
       "<style scoped>\n",
       "    .dataframe tbody tr th:only-of-type {\n",
       "        vertical-align: middle;\n",
       "    }\n",
       "\n",
       "    .dataframe tbody tr th {\n",
       "        vertical-align: top;\n",
       "    }\n",
       "\n",
       "    .dataframe thead th {\n",
       "        text-align: right;\n",
       "    }\n",
       "</style>\n",
       "<table border=\"1\" class=\"dataframe\">\n",
       "  <thead>\n",
       "    <tr style=\"text-align: right;\">\n",
       "      <th></th>\n",
       "      <th>source_system_tab</th>\n",
       "      <th>source_screen_name</th>\n",
       "      <th>source_type</th>\n",
       "      <th>city</th>\n",
       "      <th>bd</th>\n",
       "      <th>gender</th>\n",
       "      <th>registered_via</th>\n",
       "      <th>registration_init_time</th>\n",
       "      <th>expiration_date</th>\n",
       "      <th>song_length</th>\n",
       "      <th>genre_ids</th>\n",
       "      <th>language</th>\n",
       "    </tr>\n",
       "  </thead>\n",
       "  <tbody>\n",
       "    <tr>\n",
       "      <th>0</th>\n",
       "      <td>0</td>\n",
       "      <td>0</td>\n",
       "      <td>0</td>\n",
       "      <td>0</td>\n",
       "      <td>28</td>\n",
       "      <td>0</td>\n",
       "      <td>0</td>\n",
       "      <td>20120102</td>\n",
       "      <td>20171005</td>\n",
       "      <td>206471</td>\n",
       "      <td>0</td>\n",
       "      <td>0</td>\n",
       "    </tr>\n",
       "    <tr>\n",
       "      <th>215</th>\n",
       "      <td>0</td>\n",
       "      <td>0</td>\n",
       "      <td>0</td>\n",
       "      <td>0</td>\n",
       "      <td>28</td>\n",
       "      <td>0</td>\n",
       "      <td>0</td>\n",
       "      <td>20120102</td>\n",
       "      <td>20171005</td>\n",
       "      <td>187802</td>\n",
       "      <td>1</td>\n",
       "      <td>0</td>\n",
       "    </tr>\n",
       "    <tr>\n",
       "      <th>627</th>\n",
       "      <td>0</td>\n",
       "      <td>0</td>\n",
       "      <td>0</td>\n",
       "      <td>0</td>\n",
       "      <td>28</td>\n",
       "      <td>0</td>\n",
       "      <td>0</td>\n",
       "      <td>20120102</td>\n",
       "      <td>20171005</td>\n",
       "      <td>247803</td>\n",
       "      <td>2</td>\n",
       "      <td>0</td>\n",
       "    </tr>\n",
       "    <tr>\n",
       "      <th>1735</th>\n",
       "      <td>0</td>\n",
       "      <td>0</td>\n",
       "      <td>0</td>\n",
       "      <td>0</td>\n",
       "      <td>28</td>\n",
       "      <td>0</td>\n",
       "      <td>0</td>\n",
       "      <td>20120102</td>\n",
       "      <td>20171005</td>\n",
       "      <td>181115</td>\n",
       "      <td>1</td>\n",
       "      <td>0</td>\n",
       "    </tr>\n",
       "    <tr>\n",
       "      <th>2022</th>\n",
       "      <td>0</td>\n",
       "      <td>0</td>\n",
       "      <td>0</td>\n",
       "      <td>0</td>\n",
       "      <td>28</td>\n",
       "      <td>0</td>\n",
       "      <td>0</td>\n",
       "      <td>20120102</td>\n",
       "      <td>20171005</td>\n",
       "      <td>200713</td>\n",
       "      <td>3</td>\n",
       "      <td>0</td>\n",
       "    </tr>\n",
       "  </tbody>\n",
       "</table>\n",
       "</div>"
      ],
      "text/plain": [
       "      source_system_tab  source_screen_name  source_type  city  bd  gender  \\\n",
       "0                     0                   0            0     0  28       0   \n",
       "215                   0                   0            0     0  28       0   \n",
       "627                   0                   0            0     0  28       0   \n",
       "1735                  0                   0            0     0  28       0   \n",
       "2022                  0                   0            0     0  28       0   \n",
       "\n",
       "      registered_via  registration_init_time  expiration_date  song_length  \\\n",
       "0                  0                20120102         20171005       206471   \n",
       "215                0                20120102         20171005       187802   \n",
       "627                0                20120102         20171005       247803   \n",
       "1735               0                20120102         20171005       181115   \n",
       "2022               0                20120102         20171005       200713   \n",
       "\n",
       "      genre_ids  language  \n",
       "0             0         0  \n",
       "215           1         0  \n",
       "627           2         0  \n",
       "1735          1         0  \n",
       "2022          3         0  "
      ]
     },
     "execution_count": 3,
     "metadata": {},
     "output_type": "execute_result"
    }
   ],
   "source": [
    "print(\"Categorical features: \" + \", \".join(dataset.category_features))\n",
    "dataset.features.head()"
   ]
  },
  {
   "cell_type": "code",
   "execution_count": 4,
   "metadata": {
    "pycharm": {
     "name": "#%%\n"
    }
   },
   "outputs": [
    {
     "name": "stdout",
     "output_type": "stream",
     "text": [
      "Number of unique users: 30755\n"
     ]
    }
   ],
   "source": [
    "print(f\"Number of unique users: {np.unique(dataset.user_id).shape[0]}\")"
   ]
  },
  {
   "cell_type": "code",
   "execution_count": 5,
   "metadata": {},
   "outputs": [
    {
     "data": {
      "text/plain": [
       "source_system_tab      10\n",
       "source_screen_name     21\n",
       "source_type            13\n",
       "city                   21\n",
       "gender                  3\n",
       "registered_via          5\n",
       "genre_ids             573\n",
       "language               11\n",
       "dtype: int64"
      ]
     },
     "execution_count": 5,
     "metadata": {},
     "output_type": "execute_result"
    }
   ],
   "source": [
    "dataset.features[dataset.category_features].nunique()"
   ]
  },
  {
   "cell_type": "code",
   "execution_count": 6,
   "metadata": {
    "pycharm": {
     "name": "#%%\n"
    }
   },
   "outputs": [],
   "source": [
    "parameters = {\n",
    "    \"iterations\": 10,\n",
    "    \"custom_metric\": [\"NDCG\", \"QueryAUC:type=Ranking\"],\n",
    "    \"random_seed\": 7,\n",
    "    \"loss_function\": \"YetiRank\",\n",
    "    \"allow_writing_files\": False,\n",
    "    \"metric_period\": 1,\n",
    "    \"one_hot_max_size\": 20,\n",
    "    \"min_data_in_leaf\": 10,\n",
    "}"
   ]
  },
  {
   "cell_type": "code",
   "execution_count": 7,
   "metadata": {
    "pycharm": {
     "name": "#%%\n"
    }
   },
   "outputs": [
    {
     "name": "stdout",
     "output_type": "stream",
     "text": [
      "0:\ttest: 0.3787997\tbest: 0.3787997 (0)\ttotal: 1m 30s\tremaining: 13m 33s\n",
      "1:\ttest: 0.3828068\tbest: 0.3828068 (1)\ttotal: 3m 29s\tremaining: 13m 59s\n",
      "2:\ttest: 0.3823769\tbest: 0.3828068 (1)\ttotal: 5m 23s\tremaining: 12m 33s\n",
      "3:\ttest: 0.3831045\tbest: 0.3831045 (3)\ttotal: 6m 47s\tremaining: 10m 11s\n",
      "4:\ttest: 0.3854685\tbest: 0.3854685 (4)\ttotal: 8m 15s\tremaining: 8m 15s\n",
      "5:\ttest: 0.3856250\tbest: 0.3856250 (5)\ttotal: 9m 41s\tremaining: 6m 27s\n",
      "6:\ttest: 0.3858603\tbest: 0.3858603 (6)\ttotal: 11m 9s\tremaining: 4m 47s\n",
      "7:\ttest: 0.3880930\tbest: 0.3880930 (7)\ttotal: 12m 33s\tremaining: 3m 8s\n",
      "8:\ttest: 0.3886914\tbest: 0.3886914 (8)\ttotal: 13m 55s\tremaining: 1m 32s\n",
      "9:\ttest: 0.3885338\tbest: 0.3886914 (8)\ttotal: 15m 13s\tremaining: 0us\n"
     ]
    }
   ],
   "source": [
    "cv_result = cv(\n",
    "    pool=dataset.to_pool(), params=parameters, fold_count=5, shuffle=True, partition_random_seed=7, verbose=True\n",
    ")"
   ]
  },
  {
   "cell_type": "code",
   "execution_count": 8,
   "metadata": {},
   "outputs": [
    {
     "data": {
      "text/html": [
       "<div>\n",
       "<style scoped>\n",
       "    .dataframe tbody tr th:only-of-type {\n",
       "        vertical-align: middle;\n",
       "    }\n",
       "\n",
       "    .dataframe tbody tr th {\n",
       "        vertical-align: top;\n",
       "    }\n",
       "\n",
       "    .dataframe thead th {\n",
       "        text-align: right;\n",
       "    }\n",
       "</style>\n",
       "<table border=\"1\" class=\"dataframe\">\n",
       "  <thead>\n",
       "    <tr style=\"text-align: right;\">\n",
       "      <th></th>\n",
       "      <th>iterations</th>\n",
       "      <th>test-PFound-mean</th>\n",
       "      <th>test-PFound-std</th>\n",
       "      <th>test-NDCG:type=Base-mean</th>\n",
       "      <th>test-NDCG:type=Base-std</th>\n",
       "      <th>test-QueryAUC:type=Ranking-mean</th>\n",
       "      <th>test-QueryAUC:type=Ranking-std</th>\n",
       "    </tr>\n",
       "  </thead>\n",
       "  <tbody>\n",
       "    <tr>\n",
       "      <th>0</th>\n",
       "      <td>0</td>\n",
       "      <td>0.378800</td>\n",
       "      <td>0.004614</td>\n",
       "      <td>0.762835</td>\n",
       "      <td>0.003058</td>\n",
       "      <td>0.517153</td>\n",
       "      <td>0.003661</td>\n",
       "    </tr>\n",
       "    <tr>\n",
       "      <th>1</th>\n",
       "      <td>1</td>\n",
       "      <td>0.382807</td>\n",
       "      <td>0.007363</td>\n",
       "      <td>0.764602</td>\n",
       "      <td>0.004668</td>\n",
       "      <td>0.518060</td>\n",
       "      <td>0.003454</td>\n",
       "    </tr>\n",
       "    <tr>\n",
       "      <th>2</th>\n",
       "      <td>2</td>\n",
       "      <td>0.382377</td>\n",
       "      <td>0.007275</td>\n",
       "      <td>0.764624</td>\n",
       "      <td>0.004677</td>\n",
       "      <td>0.518092</td>\n",
       "      <td>0.003570</td>\n",
       "    </tr>\n",
       "    <tr>\n",
       "      <th>3</th>\n",
       "      <td>3</td>\n",
       "      <td>0.383105</td>\n",
       "      <td>0.007843</td>\n",
       "      <td>0.764783</td>\n",
       "      <td>0.004832</td>\n",
       "      <td>0.518260</td>\n",
       "      <td>0.003653</td>\n",
       "    </tr>\n",
       "    <tr>\n",
       "      <th>4</th>\n",
       "      <td>4</td>\n",
       "      <td>0.385468</td>\n",
       "      <td>0.004826</td>\n",
       "      <td>0.765854</td>\n",
       "      <td>0.004063</td>\n",
       "      <td>0.518557</td>\n",
       "      <td>0.003352</td>\n",
       "    </tr>\n",
       "    <tr>\n",
       "      <th>5</th>\n",
       "      <td>5</td>\n",
       "      <td>0.385625</td>\n",
       "      <td>0.004650</td>\n",
       "      <td>0.765803</td>\n",
       "      <td>0.004044</td>\n",
       "      <td>0.518557</td>\n",
       "      <td>0.003299</td>\n",
       "    </tr>\n",
       "    <tr>\n",
       "      <th>6</th>\n",
       "      <td>6</td>\n",
       "      <td>0.385860</td>\n",
       "      <td>0.004594</td>\n",
       "      <td>0.765801</td>\n",
       "      <td>0.004066</td>\n",
       "      <td>0.518552</td>\n",
       "      <td>0.003232</td>\n",
       "    </tr>\n",
       "    <tr>\n",
       "      <th>7</th>\n",
       "      <td>7</td>\n",
       "      <td>0.388093</td>\n",
       "      <td>0.003785</td>\n",
       "      <td>0.766925</td>\n",
       "      <td>0.002331</td>\n",
       "      <td>0.519049</td>\n",
       "      <td>0.002685</td>\n",
       "    </tr>\n",
       "    <tr>\n",
       "      <th>8</th>\n",
       "      <td>8</td>\n",
       "      <td>0.388691</td>\n",
       "      <td>0.002862</td>\n",
       "      <td>0.766986</td>\n",
       "      <td>0.002266</td>\n",
       "      <td>0.519157</td>\n",
       "      <td>0.002752</td>\n",
       "    </tr>\n",
       "    <tr>\n",
       "      <th>9</th>\n",
       "      <td>9</td>\n",
       "      <td>0.388534</td>\n",
       "      <td>0.002958</td>\n",
       "      <td>0.766977</td>\n",
       "      <td>0.002236</td>\n",
       "      <td>0.519137</td>\n",
       "      <td>0.002643</td>\n",
       "    </tr>\n",
       "  </tbody>\n",
       "</table>\n",
       "</div>"
      ],
      "text/plain": [
       "   iterations  test-PFound-mean  test-PFound-std  test-NDCG:type=Base-mean  \\\n",
       "0           0          0.378800         0.004614                  0.762835   \n",
       "1           1          0.382807         0.007363                  0.764602   \n",
       "2           2          0.382377         0.007275                  0.764624   \n",
       "3           3          0.383105         0.007843                  0.764783   \n",
       "4           4          0.385468         0.004826                  0.765854   \n",
       "5           5          0.385625         0.004650                  0.765803   \n",
       "6           6          0.385860         0.004594                  0.765801   \n",
       "7           7          0.388093         0.003785                  0.766925   \n",
       "8           8          0.388691         0.002862                  0.766986   \n",
       "9           9          0.388534         0.002958                  0.766977   \n",
       "\n",
       "   test-NDCG:type=Base-std  test-QueryAUC:type=Ranking-mean  \\\n",
       "0                 0.003058                         0.517153   \n",
       "1                 0.004668                         0.518060   \n",
       "2                 0.004677                         0.518092   \n",
       "3                 0.004832                         0.518260   \n",
       "4                 0.004063                         0.518557   \n",
       "5                 0.004044                         0.518557   \n",
       "6                 0.004066                         0.518552   \n",
       "7                 0.002331                         0.519049   \n",
       "8                 0.002266                         0.519157   \n",
       "9                 0.002236                         0.519137   \n",
       "\n",
       "   test-QueryAUC:type=Ranking-std  \n",
       "0                        0.003661  \n",
       "1                        0.003454  \n",
       "2                        0.003570  \n",
       "3                        0.003653  \n",
       "4                        0.003352  \n",
       "5                        0.003299  \n",
       "6                        0.003232  \n",
       "7                        0.002685  \n",
       "8                        0.002752  \n",
       "9                        0.002643  "
      ]
     },
     "execution_count": 8,
     "metadata": {},
     "output_type": "execute_result"
    }
   ],
   "source": [
    "cv_result"
   ]
  },
  {
   "cell_type": "code",
   "execution_count": null,
   "metadata": {},
   "outputs": [],
   "source": []
  }
 ],
 "metadata": {
  "kernelspec": {
   "display_name": "Python 3 (ipykernel)",
   "language": "python",
   "name": "python3"
  },
  "language_info": {
   "codemirror_mode": {
    "name": "ipython",
    "version": 3
   },
   "file_extension": ".py",
   "mimetype": "text/x-python",
   "name": "python",
   "nbconvert_exporter": "python",
   "pygments_lexer": "ipython3",
   "version": "3.9.7"
  }
 },
 "nbformat": 4,
 "nbformat_minor": 1
}
