{
  "nbformat": 4,
  "nbformat_minor": 0,
  "metadata": {
    "kernelspec": {
      "display_name": "Python 3 (ipykernel)",
      "language": "python",
      "name": "python3"
    },
    "language_info": {
      "codemirror_mode": {
        "name": "ipython",
        "version": 3
      },
      "file_extension": ".py",
      "mimetype": "text/x-python",
      "name": "python",
      "nbconvert_exporter": "python",
      "pygments_lexer": "ipython3",
      "version": "3.9.7"
    },
    "colab": {
      "name": "this_song_is_all_you_need.ipynb",
      "provenance": [],
      "include_colab_link": true
    },
    "accelerator": "GPU",
    "widgets": {
      "application/vnd.jupyter.widget-state+json": {
        "966c5a045dec4b63a35365e4da3556c3": {
          "model_module": "@jupyter-widgets/controls",
          "model_name": "HBoxModel",
          "model_module_version": "1.5.0",
          "state": {
            "_view_name": "HBoxView",
            "_dom_classes": [],
            "_model_name": "HBoxModel",
            "_view_module": "@jupyter-widgets/controls",
            "_model_module_version": "1.5.0",
            "_view_count": null,
            "_view_module_version": "1.5.0",
            "box_style": "",
            "layout": "IPY_MODEL_2f9c36d07d0440ae9d8020a337b1a5a0",
            "_model_module": "@jupyter-widgets/controls",
            "children": [
              "IPY_MODEL_20dd66177054483f9562f17224f361c4",
              "IPY_MODEL_a305b76515b3495c8a2f875811e70bee",
              "IPY_MODEL_f1606481315147b593adf3967863884a"
            ]
          }
        },
        "2f9c36d07d0440ae9d8020a337b1a5a0": {
          "model_module": "@jupyter-widgets/base",
          "model_name": "LayoutModel",
          "model_module_version": "1.2.0",
          "state": {
            "_view_name": "LayoutView",
            "grid_template_rows": null,
            "right": null,
            "justify_content": null,
            "_view_module": "@jupyter-widgets/base",
            "overflow": null,
            "_model_module_version": "1.2.0",
            "_view_count": null,
            "flex_flow": null,
            "width": null,
            "min_width": null,
            "border": null,
            "align_items": null,
            "bottom": null,
            "_model_module": "@jupyter-widgets/base",
            "top": null,
            "grid_column": null,
            "overflow_y": null,
            "overflow_x": null,
            "grid_auto_flow": null,
            "grid_area": null,
            "grid_template_columns": null,
            "flex": null,
            "_model_name": "LayoutModel",
            "justify_items": null,
            "grid_row": null,
            "max_height": null,
            "align_content": null,
            "visibility": null,
            "align_self": null,
            "height": null,
            "min_height": null,
            "padding": null,
            "grid_auto_rows": null,
            "grid_gap": null,
            "max_width": null,
            "order": null,
            "_view_module_version": "1.2.0",
            "grid_template_areas": null,
            "object_position": null,
            "object_fit": null,
            "grid_auto_columns": null,
            "margin": null,
            "display": null,
            "left": null
          }
        },
        "20dd66177054483f9562f17224f361c4": {
          "model_module": "@jupyter-widgets/controls",
          "model_name": "HTMLModel",
          "model_module_version": "1.5.0",
          "state": {
            "_view_name": "HTMLView",
            "style": "IPY_MODEL_3b7156b7504047668c0f532f6a7e82ea",
            "_dom_classes": [],
            "description": "",
            "_model_name": "HTMLModel",
            "placeholder": "​",
            "_view_module": "@jupyter-widgets/controls",
            "_model_module_version": "1.5.0",
            "value": "Cross-validation: 100%",
            "_view_count": null,
            "_view_module_version": "1.5.0",
            "description_tooltip": null,
            "_model_module": "@jupyter-widgets/controls",
            "layout": "IPY_MODEL_547de108fd3e4407b1bbb9c25fc5e1e9"
          }
        },
        "a305b76515b3495c8a2f875811e70bee": {
          "model_module": "@jupyter-widgets/controls",
          "model_name": "FloatProgressModel",
          "model_module_version": "1.5.0",
          "state": {
            "_view_name": "ProgressView",
            "style": "IPY_MODEL_f5c02d56e7954d9ab381d2e3b3b40c54",
            "_dom_classes": [],
            "description": "",
            "_model_name": "FloatProgressModel",
            "bar_style": "success",
            "max": 5,
            "_view_module": "@jupyter-widgets/controls",
            "_model_module_version": "1.5.0",
            "value": 5,
            "_view_count": null,
            "_view_module_version": "1.5.0",
            "orientation": "horizontal",
            "min": 0,
            "description_tooltip": null,
            "_model_module": "@jupyter-widgets/controls",
            "layout": "IPY_MODEL_4836e198f8ab412bbee2c81acecec4f9"
          }
        },
        "f1606481315147b593adf3967863884a": {
          "model_module": "@jupyter-widgets/controls",
          "model_name": "HTMLModel",
          "model_module_version": "1.5.0",
          "state": {
            "_view_name": "HTMLView",
            "style": "IPY_MODEL_5f8cb61dbb7441e494ba85d5652a9d89",
            "_dom_classes": [],
            "description": "",
            "_model_name": "HTMLModel",
            "placeholder": "​",
            "_view_module": "@jupyter-widgets/controls",
            "_model_module_version": "1.5.0",
            "value": " 5/5 [20:23&lt;00:00, 245.08s/it]",
            "_view_count": null,
            "_view_module_version": "1.5.0",
            "description_tooltip": null,
            "_model_module": "@jupyter-widgets/controls",
            "layout": "IPY_MODEL_112549c9644e42e5b63f29792aa309d7"
          }
        },
        "3b7156b7504047668c0f532f6a7e82ea": {
          "model_module": "@jupyter-widgets/controls",
          "model_name": "DescriptionStyleModel",
          "model_module_version": "1.5.0",
          "state": {
            "_view_name": "StyleView",
            "_model_name": "DescriptionStyleModel",
            "description_width": "",
            "_view_module": "@jupyter-widgets/base",
            "_model_module_version": "1.5.0",
            "_view_count": null,
            "_view_module_version": "1.2.0",
            "_model_module": "@jupyter-widgets/controls"
          }
        },
        "547de108fd3e4407b1bbb9c25fc5e1e9": {
          "model_module": "@jupyter-widgets/base",
          "model_name": "LayoutModel",
          "model_module_version": "1.2.0",
          "state": {
            "_view_name": "LayoutView",
            "grid_template_rows": null,
            "right": null,
            "justify_content": null,
            "_view_module": "@jupyter-widgets/base",
            "overflow": null,
            "_model_module_version": "1.2.0",
            "_view_count": null,
            "flex_flow": null,
            "width": null,
            "min_width": null,
            "border": null,
            "align_items": null,
            "bottom": null,
            "_model_module": "@jupyter-widgets/base",
            "top": null,
            "grid_column": null,
            "overflow_y": null,
            "overflow_x": null,
            "grid_auto_flow": null,
            "grid_area": null,
            "grid_template_columns": null,
            "flex": null,
            "_model_name": "LayoutModel",
            "justify_items": null,
            "grid_row": null,
            "max_height": null,
            "align_content": null,
            "visibility": null,
            "align_self": null,
            "height": null,
            "min_height": null,
            "padding": null,
            "grid_auto_rows": null,
            "grid_gap": null,
            "max_width": null,
            "order": null,
            "_view_module_version": "1.2.0",
            "grid_template_areas": null,
            "object_position": null,
            "object_fit": null,
            "grid_auto_columns": null,
            "margin": null,
            "display": null,
            "left": null
          }
        },
        "f5c02d56e7954d9ab381d2e3b3b40c54": {
          "model_module": "@jupyter-widgets/controls",
          "model_name": "ProgressStyleModel",
          "model_module_version": "1.5.0",
          "state": {
            "_view_name": "StyleView",
            "_model_name": "ProgressStyleModel",
            "description_width": "",
            "_view_module": "@jupyter-widgets/base",
            "_model_module_version": "1.5.0",
            "_view_count": null,
            "_view_module_version": "1.2.0",
            "bar_color": null,
            "_model_module": "@jupyter-widgets/controls"
          }
        },
        "4836e198f8ab412bbee2c81acecec4f9": {
          "model_module": "@jupyter-widgets/base",
          "model_name": "LayoutModel",
          "model_module_version": "1.2.0",
          "state": {
            "_view_name": "LayoutView",
            "grid_template_rows": null,
            "right": null,
            "justify_content": null,
            "_view_module": "@jupyter-widgets/base",
            "overflow": null,
            "_model_module_version": "1.2.0",
            "_view_count": null,
            "flex_flow": null,
            "width": null,
            "min_width": null,
            "border": null,
            "align_items": null,
            "bottom": null,
            "_model_module": "@jupyter-widgets/base",
            "top": null,
            "grid_column": null,
            "overflow_y": null,
            "overflow_x": null,
            "grid_auto_flow": null,
            "grid_area": null,
            "grid_template_columns": null,
            "flex": null,
            "_model_name": "LayoutModel",
            "justify_items": null,
            "grid_row": null,
            "max_height": null,
            "align_content": null,
            "visibility": null,
            "align_self": null,
            "height": null,
            "min_height": null,
            "padding": null,
            "grid_auto_rows": null,
            "grid_gap": null,
            "max_width": null,
            "order": null,
            "_view_module_version": "1.2.0",
            "grid_template_areas": null,
            "object_position": null,
            "object_fit": null,
            "grid_auto_columns": null,
            "margin": null,
            "display": null,
            "left": null
          }
        },
        "5f8cb61dbb7441e494ba85d5652a9d89": {
          "model_module": "@jupyter-widgets/controls",
          "model_name": "DescriptionStyleModel",
          "model_module_version": "1.5.0",
          "state": {
            "_view_name": "StyleView",
            "_model_name": "DescriptionStyleModel",
            "description_width": "",
            "_view_module": "@jupyter-widgets/base",
            "_model_module_version": "1.5.0",
            "_view_count": null,
            "_view_module_version": "1.2.0",
            "_model_module": "@jupyter-widgets/controls"
          }
        },
        "112549c9644e42e5b63f29792aa309d7": {
          "model_module": "@jupyter-widgets/base",
          "model_name": "LayoutModel",
          "model_module_version": "1.2.0",
          "state": {
            "_view_name": "LayoutView",
            "grid_template_rows": null,
            "right": null,
            "justify_content": null,
            "_view_module": "@jupyter-widgets/base",
            "overflow": null,
            "_model_module_version": "1.2.0",
            "_view_count": null,
            "flex_flow": null,
            "width": null,
            "min_width": null,
            "border": null,
            "align_items": null,
            "bottom": null,
            "_model_module": "@jupyter-widgets/base",
            "top": null,
            "grid_column": null,
            "overflow_y": null,
            "overflow_x": null,
            "grid_auto_flow": null,
            "grid_area": null,
            "grid_template_columns": null,
            "flex": null,
            "_model_name": "LayoutModel",
            "justify_items": null,
            "grid_row": null,
            "max_height": null,
            "align_content": null,
            "visibility": null,
            "align_self": null,
            "height": null,
            "min_height": null,
            "padding": null,
            "grid_auto_rows": null,
            "grid_gap": null,
            "max_width": null,
            "order": null,
            "_view_module_version": "1.2.0",
            "grid_template_areas": null,
            "object_position": null,
            "object_fit": null,
            "grid_auto_columns": null,
            "margin": null,
            "display": null,
            "left": null
          }
        }
      }
    }
  },
  "cells": [
    {
      "cell_type": "markdown",
      "metadata": {
        "id": "view-in-github",
        "colab_type": "text"
      },
      "source": [
        "<a href=\"https://colab.research.google.com/github/SpirinEgor/HSE.recommendation_systems/blob/master/homework_2/this_song_is_all_you_need.ipynb\" target=\"_parent\"><img src=\"https://colab.research.google.com/assets/colab-badge.svg\" alt=\"Open In Colab\"/></a>"
      ]
    },
    {
      "cell_type": "markdown",
      "metadata": {
        "id": "jB4imke8-6Mc"
      },
      "source": [
        "# Colab preparation"
      ]
    },
    {
      "cell_type": "code",
      "metadata": {
        "id": "5o5qBysa4dI7",
        "outputId": "f1e41cb6-76d0-4138-8ff9-b0dc71455d45",
        "colab": {
          "base_uri": "https://localhost:8080/"
        }
      },
      "source": [
        "! nvidia-smi"
      ],
      "execution_count": 1,
      "outputs": [
        {
          "output_type": "stream",
          "name": "stdout",
          "text": [
            "Fri Nov 19 17:41:10 2021       \n",
            "+-----------------------------------------------------------------------------+\n",
            "| NVIDIA-SMI 495.44       Driver Version: 460.32.03    CUDA Version: 11.2     |\n",
            "|-------------------------------+----------------------+----------------------+\n",
            "| GPU  Name        Persistence-M| Bus-Id        Disp.A | Volatile Uncorr. ECC |\n",
            "| Fan  Temp  Perf  Pwr:Usage/Cap|         Memory-Usage | GPU-Util  Compute M. |\n",
            "|                               |                      |               MIG M. |\n",
            "|===============================+======================+======================|\n",
            "|   0  Tesla K80           Off  | 00000000:00:04.0 Off |                    0 |\n",
            "| N/A   48C    P8    28W / 149W |      0MiB / 11441MiB |      0%      Default |\n",
            "|                               |                      |                  N/A |\n",
            "+-------------------------------+----------------------+----------------------+\n",
            "                                                                               \n",
            "+-----------------------------------------------------------------------------+\n",
            "| Processes:                                                                  |\n",
            "|  GPU   GI   CI        PID   Type   Process name                  GPU Memory |\n",
            "|        ID   ID                                                   Usage      |\n",
            "|=============================================================================|\n",
            "|  No running processes found                                                 |\n",
            "+-----------------------------------------------------------------------------+\n"
          ]
        }
      ]
    },
    {
      "cell_type": "code",
      "metadata": {
        "id": "pvF5-PFH-mls",
        "outputId": "0da05471-c06d-49e2-c44e-058c0a7de3d6",
        "colab": {
          "base_uri": "https://localhost:8080/"
        }
      },
      "source": [
        "! pip install catboost"
      ],
      "execution_count": 2,
      "outputs": [
        {
          "output_type": "stream",
          "name": "stdout",
          "text": [
            "Requirement already satisfied: catboost in /usr/local/lib/python3.7/dist-packages (1.0.3)\n",
            "Requirement already satisfied: graphviz in /usr/local/lib/python3.7/dist-packages (from catboost) (0.10.1)\n",
            "Requirement already satisfied: scipy in /usr/local/lib/python3.7/dist-packages (from catboost) (1.4.1)\n",
            "Requirement already satisfied: pandas>=0.24.0 in /usr/local/lib/python3.7/dist-packages (from catboost) (1.1.5)\n",
            "Requirement already satisfied: matplotlib in /usr/local/lib/python3.7/dist-packages (from catboost) (3.2.2)\n",
            "Requirement already satisfied: numpy>=1.16.0 in /usr/local/lib/python3.7/dist-packages (from catboost) (1.19.5)\n",
            "Requirement already satisfied: plotly in /usr/local/lib/python3.7/dist-packages (from catboost) (4.4.1)\n",
            "Requirement already satisfied: six in /usr/local/lib/python3.7/dist-packages (from catboost) (1.15.0)\n",
            "Requirement already satisfied: python-dateutil>=2.7.3 in /usr/local/lib/python3.7/dist-packages (from pandas>=0.24.0->catboost) (2.8.2)\n",
            "Requirement already satisfied: pytz>=2017.2 in /usr/local/lib/python3.7/dist-packages (from pandas>=0.24.0->catboost) (2018.9)\n",
            "Requirement already satisfied: cycler>=0.10 in /usr/local/lib/python3.7/dist-packages (from matplotlib->catboost) (0.11.0)\n",
            "Requirement already satisfied: kiwisolver>=1.0.1 in /usr/local/lib/python3.7/dist-packages (from matplotlib->catboost) (1.3.2)\n",
            "Requirement already satisfied: pyparsing!=2.0.4,!=2.1.2,!=2.1.6,>=2.0.1 in /usr/local/lib/python3.7/dist-packages (from matplotlib->catboost) (2.4.7)\n",
            "Requirement already satisfied: retrying>=1.3.3 in /usr/local/lib/python3.7/dist-packages (from plotly->catboost) (1.3.3)\n"
          ]
        }
      ]
    },
    {
      "cell_type": "code",
      "metadata": {
        "id": "c2ejGHht97y-",
        "outputId": "35de3730-32c2-4a82-ef69-160f3e7f378f",
        "colab": {
          "base_uri": "https://localhost:8080/"
        }
      },
      "source": [
        "! git clone https://github.com/SpirinEgor/HSE.recommendation_systems\n",
        "%cd HSE.recommendation_systems/homework_2"
      ],
      "execution_count": 3,
      "outputs": [
        {
          "output_type": "stream",
          "name": "stdout",
          "text": [
            "fatal: destination path 'HSE.recommendation_systems' already exists and is not an empty directory.\n",
            "/content/HSE.recommendation_systems/homework_2\n"
          ]
        }
      ]
    },
    {
      "cell_type": "code",
      "metadata": {
        "id": "vIz9_tUV-3ku",
        "outputId": "3bb52712-d145-4feb-d82a-9fb2f09c7425",
        "colab": {
          "base_uri": "https://localhost:8080/"
        }
      },
      "source": [
        "! git pull"
      ],
      "execution_count": 4,
      "outputs": [
        {
          "output_type": "stream",
          "name": "stdout",
          "text": [
            "Already up to date.\n"
          ]
        }
      ]
    },
    {
      "cell_type": "code",
      "metadata": {
        "id": "OrraZuG3_HKU",
        "outputId": "834a1684-67b7-4740-d5d1-77826e80c26a",
        "colab": {
          "base_uri": "https://localhost:8080/"
        }
      },
      "source": [
        "! mkdir data &&\\\n",
        "    cd data &&\\\n",
        "    wget https://voudy-data.s3.eu-north-1.amazonaws.com/wsdm_data.tar.gz &&\\\n",
        "    tar -xzvf wsdm_data.tar.gz"
      ],
      "execution_count": 5,
      "outputs": [
        {
          "output_type": "stream",
          "name": "stdout",
          "text": [
            "mkdir: cannot create directory ‘data’: File exists\n"
          ]
        }
      ]
    },
    {
      "cell_type": "markdown",
      "metadata": {
        "id": "RD-jE7DE-_AO"
      },
      "source": [
        "# Imports"
      ]
    },
    {
      "cell_type": "code",
      "metadata": {
        "pycharm": {
          "name": "#%%\n"
        },
        "id": "ejn3NYy84Zsf"
      },
      "source": [
        "from dataset import DatasetBuilder\n",
        "\n",
        "import numpy as np\n",
        "import seaborn as sns\n",
        "from catboost import cv, CatBoostRanker\n",
        "from tqdm.auto import tqdm\n",
        "\n",
        "%matplotlib inline\n",
        "%load_ext autoreload\n",
        "%autoreload 2"
      ],
      "execution_count": 6,
      "outputs": []
    },
    {
      "cell_type": "markdown",
      "metadata": {
        "id": "oo23OYSV_BO9"
      },
      "source": [
        "# Basic recommendation system"
      ]
    },
    {
      "cell_type": "code",
      "metadata": {
        "pycharm": {
          "name": "#%%\n"
        },
        "id": "TIeYEkeO4Zsg",
        "outputId": "eb6bd326-8b54-4bad-98b8-9e6e02e3d253",
        "colab": {
          "base_uri": "https://localhost:8080/"
        }
      },
      "source": [
        "dataset_builder = DatasetBuilder(\"data\", 1023, 25)\n",
        "dataset = dataset_builder.build_dataset()"
      ],
      "execution_count": 7,
      "outputs": [
        {
          "output_type": "stream",
          "name": "stdout",
          "text": [
            "Reading data...\n",
            "Building embeddings for song...\n",
            "\tBuilding count vectors...\n",
            "\tDecomposing them with SVD...\n",
            "\tExplained variance of the SVD: 77%\n",
            "Joining all data into one single table...\n",
            "Removing users with too much songs...\n",
            "Processing categorical features...\n"
          ]
        }
      ]
    },
    {
      "cell_type": "code",
      "metadata": {
        "pycharm": {
          "name": "#%%\n"
        },
        "id": "ogx6SCK04Zsh",
        "outputId": "3b48d434-dbdc-44e2-aac8-9a7b64ce0603",
        "colab": {
          "base_uri": "https://localhost:8080/",
          "height": 244
        }
      },
      "source": [
        "print(\"Categorical features: \" + \", \".join(dataset.category_features))\n",
        "dataset.features.head()"
      ],
      "execution_count": 8,
      "outputs": [
        {
          "output_type": "stream",
          "name": "stdout",
          "text": [
            "Categorical features: song_id, source_system_tab, source_screen_name, source_type, city, gender, registered_via, genre_ids, language\n"
          ]
        },
        {
          "output_type": "execute_result",
          "data": {
            "text/html": [
              "<div>\n",
              "<style scoped>\n",
              "    .dataframe tbody tr th:only-of-type {\n",
              "        vertical-align: middle;\n",
              "    }\n",
              "\n",
              "    .dataframe tbody tr th {\n",
              "        vertical-align: top;\n",
              "    }\n",
              "\n",
              "    .dataframe thead th {\n",
              "        text-align: right;\n",
              "    }\n",
              "</style>\n",
              "<table border=\"1\" class=\"dataframe\">\n",
              "  <thead>\n",
              "    <tr style=\"text-align: right;\">\n",
              "      <th></th>\n",
              "      <th>song_id</th>\n",
              "      <th>source_system_tab</th>\n",
              "      <th>source_screen_name</th>\n",
              "      <th>source_type</th>\n",
              "      <th>city</th>\n",
              "      <th>bd</th>\n",
              "      <th>gender</th>\n",
              "      <th>registered_via</th>\n",
              "      <th>registration_init_time</th>\n",
              "      <th>expiration_date</th>\n",
              "      <th>song_length</th>\n",
              "      <th>genre_ids</th>\n",
              "      <th>language</th>\n",
              "      <th>song_emb_1</th>\n",
              "      <th>song_emb_2</th>\n",
              "      <th>song_emb_3</th>\n",
              "      <th>song_emb_4</th>\n",
              "      <th>song_emb_5</th>\n",
              "      <th>song_emb_6</th>\n",
              "      <th>song_emb_7</th>\n",
              "      <th>song_emb_8</th>\n",
              "      <th>song_emb_9</th>\n",
              "      <th>song_emb_10</th>\n",
              "      <th>song_emb_11</th>\n",
              "      <th>song_emb_12</th>\n",
              "      <th>song_emb_13</th>\n",
              "      <th>song_emb_14</th>\n",
              "      <th>song_emb_15</th>\n",
              "      <th>song_emb_16</th>\n",
              "      <th>song_emb_17</th>\n",
              "      <th>song_emb_18</th>\n",
              "      <th>song_emb_19</th>\n",
              "      <th>song_emb_20</th>\n",
              "      <th>song_emb_21</th>\n",
              "      <th>song_emb_22</th>\n",
              "      <th>song_emb_23</th>\n",
              "      <th>song_emb_24</th>\n",
              "      <th>song_emb_25</th>\n",
              "    </tr>\n",
              "  </thead>\n",
              "  <tbody>\n",
              "    <tr>\n",
              "      <th>0</th>\n",
              "      <td>0</td>\n",
              "      <td>0</td>\n",
              "      <td>0</td>\n",
              "      <td>0</td>\n",
              "      <td>0</td>\n",
              "      <td>28</td>\n",
              "      <td>0</td>\n",
              "      <td>0</td>\n",
              "      <td>20120102</td>\n",
              "      <td>20171005</td>\n",
              "      <td>206471</td>\n",
              "      <td>0</td>\n",
              "      <td>0</td>\n",
              "      <td>0.913261</td>\n",
              "      <td>-0.068708</td>\n",
              "      <td>-0.094841</td>\n",
              "      <td>-0.034675</td>\n",
              "      <td>0.156423</td>\n",
              "      <td>-0.150219</td>\n",
              "      <td>-0.107551</td>\n",
              "      <td>0.062199</td>\n",
              "      <td>0.079589</td>\n",
              "      <td>-0.042486</td>\n",
              "      <td>0.017418</td>\n",
              "      <td>0.069391</td>\n",
              "      <td>0.099376</td>\n",
              "      <td>0.079655</td>\n",
              "      <td>-0.154786</td>\n",
              "      <td>0.010301</td>\n",
              "      <td>-0.040813</td>\n",
              "      <td>0.037707</td>\n",
              "      <td>-0.015647</td>\n",
              "      <td>-0.034635</td>\n",
              "      <td>0.117701</td>\n",
              "      <td>-0.040311</td>\n",
              "      <td>-0.023920</td>\n",
              "      <td>0.116047</td>\n",
              "      <td>0.031199</td>\n",
              "    </tr>\n",
              "    <tr>\n",
              "      <th>1</th>\n",
              "      <td>1</td>\n",
              "      <td>0</td>\n",
              "      <td>0</td>\n",
              "      <td>0</td>\n",
              "      <td>0</td>\n",
              "      <td>28</td>\n",
              "      <td>0</td>\n",
              "      <td>0</td>\n",
              "      <td>20120102</td>\n",
              "      <td>20171005</td>\n",
              "      <td>187802</td>\n",
              "      <td>1</td>\n",
              "      <td>0</td>\n",
              "      <td>0.851002</td>\n",
              "      <td>-0.055620</td>\n",
              "      <td>0.172773</td>\n",
              "      <td>-0.113189</td>\n",
              "      <td>-0.028599</td>\n",
              "      <td>0.090916</td>\n",
              "      <td>0.021551</td>\n",
              "      <td>0.071765</td>\n",
              "      <td>0.095901</td>\n",
              "      <td>-0.077888</td>\n",
              "      <td>0.089697</td>\n",
              "      <td>0.205822</td>\n",
              "      <td>-0.004729</td>\n",
              "      <td>-0.309982</td>\n",
              "      <td>-0.031592</td>\n",
              "      <td>-0.017751</td>\n",
              "      <td>-0.124730</td>\n",
              "      <td>-0.105279</td>\n",
              "      <td>-0.034866</td>\n",
              "      <td>0.078842</td>\n",
              "      <td>0.026714</td>\n",
              "      <td>0.067185</td>\n",
              "      <td>-0.093210</td>\n",
              "      <td>-0.054873</td>\n",
              "      <td>-0.035290</td>\n",
              "    </tr>\n",
              "    <tr>\n",
              "      <th>2</th>\n",
              "      <td>2</td>\n",
              "      <td>0</td>\n",
              "      <td>0</td>\n",
              "      <td>0</td>\n",
              "      <td>0</td>\n",
              "      <td>28</td>\n",
              "      <td>0</td>\n",
              "      <td>0</td>\n",
              "      <td>20120102</td>\n",
              "      <td>20171005</td>\n",
              "      <td>247803</td>\n",
              "      <td>2</td>\n",
              "      <td>0</td>\n",
              "      <td>0.827218</td>\n",
              "      <td>-0.078932</td>\n",
              "      <td>0.110917</td>\n",
              "      <td>0.162742</td>\n",
              "      <td>0.036988</td>\n",
              "      <td>0.076480</td>\n",
              "      <td>-0.323393</td>\n",
              "      <td>-0.122198</td>\n",
              "      <td>-0.063974</td>\n",
              "      <td>0.177387</td>\n",
              "      <td>-0.022776</td>\n",
              "      <td>-0.030657</td>\n",
              "      <td>-0.107359</td>\n",
              "      <td>0.094179</td>\n",
              "      <td>-0.067323</td>\n",
              "      <td>-0.000807</td>\n",
              "      <td>-0.051976</td>\n",
              "      <td>-0.076147</td>\n",
              "      <td>-0.232630</td>\n",
              "      <td>-0.006132</td>\n",
              "      <td>-0.029463</td>\n",
              "      <td>-0.007412</td>\n",
              "      <td>0.037708</td>\n",
              "      <td>-0.112340</td>\n",
              "      <td>-0.066288</td>\n",
              "    </tr>\n",
              "    <tr>\n",
              "      <th>3</th>\n",
              "      <td>3</td>\n",
              "      <td>0</td>\n",
              "      <td>0</td>\n",
              "      <td>0</td>\n",
              "      <td>0</td>\n",
              "      <td>28</td>\n",
              "      <td>0</td>\n",
              "      <td>0</td>\n",
              "      <td>20120102</td>\n",
              "      <td>20171005</td>\n",
              "      <td>181115</td>\n",
              "      <td>1</td>\n",
              "      <td>0</td>\n",
              "      <td>0.821057</td>\n",
              "      <td>-0.048121</td>\n",
              "      <td>-0.044837</td>\n",
              "      <td>-0.221009</td>\n",
              "      <td>-0.032184</td>\n",
              "      <td>0.081126</td>\n",
              "      <td>-0.151192</td>\n",
              "      <td>0.200196</td>\n",
              "      <td>0.141496</td>\n",
              "      <td>-0.256720</td>\n",
              "      <td>0.022953</td>\n",
              "      <td>0.287756</td>\n",
              "      <td>0.039639</td>\n",
              "      <td>0.114166</td>\n",
              "      <td>-0.001489</td>\n",
              "      <td>-0.049974</td>\n",
              "      <td>-0.090043</td>\n",
              "      <td>0.037037</td>\n",
              "      <td>-0.016833</td>\n",
              "      <td>-0.055145</td>\n",
              "      <td>0.010258</td>\n",
              "      <td>-0.042161</td>\n",
              "      <td>0.003804</td>\n",
              "      <td>0.030932</td>\n",
              "      <td>-0.011005</td>\n",
              "    </tr>\n",
              "    <tr>\n",
              "      <th>4</th>\n",
              "      <td>4</td>\n",
              "      <td>0</td>\n",
              "      <td>0</td>\n",
              "      <td>0</td>\n",
              "      <td>0</td>\n",
              "      <td>28</td>\n",
              "      <td>0</td>\n",
              "      <td>0</td>\n",
              "      <td>20120102</td>\n",
              "      <td>20171005</td>\n",
              "      <td>200713</td>\n",
              "      <td>3</td>\n",
              "      <td>0</td>\n",
              "      <td>0.906112</td>\n",
              "      <td>-0.066502</td>\n",
              "      <td>0.076949</td>\n",
              "      <td>-0.132817</td>\n",
              "      <td>-0.081697</td>\n",
              "      <td>-0.013248</td>\n",
              "      <td>-0.125531</td>\n",
              "      <td>-0.097822</td>\n",
              "      <td>0.084721</td>\n",
              "      <td>-0.026780</td>\n",
              "      <td>0.005788</td>\n",
              "      <td>0.027261</td>\n",
              "      <td>0.133294</td>\n",
              "      <td>-0.099032</td>\n",
              "      <td>-0.078109</td>\n",
              "      <td>0.107989</td>\n",
              "      <td>-0.088140</td>\n",
              "      <td>-0.059143</td>\n",
              "      <td>0.093498</td>\n",
              "      <td>-0.045716</td>\n",
              "      <td>-0.036650</td>\n",
              "      <td>0.172916</td>\n",
              "      <td>-0.078488</td>\n",
              "      <td>-0.068764</td>\n",
              "      <td>-0.023686</td>\n",
              "    </tr>\n",
              "  </tbody>\n",
              "</table>\n",
              "</div>"
            ],
            "text/plain": [
              "   song_id  source_system_tab  ...  song_emb_24  song_emb_25\n",
              "0        0                  0  ...     0.116047     0.031199\n",
              "1        1                  0  ...    -0.054873    -0.035290\n",
              "2        2                  0  ...    -0.112340    -0.066288\n",
              "3        3                  0  ...     0.030932    -0.011005\n",
              "4        4                  0  ...    -0.068764    -0.023686\n",
              "\n",
              "[5 rows x 38 columns]"
            ]
          },
          "metadata": {},
          "execution_count": 8
        }
      ]
    },
    {
      "cell_type": "code",
      "metadata": {
        "pycharm": {
          "name": "#%%\n"
        },
        "id": "Ee-MB7pN4Zsh",
        "outputId": "17b1da24-424e-4d87-a18f-ca9866825f33",
        "colab": {
          "base_uri": "https://localhost:8080/"
        }
      },
      "source": [
        "print(f\"Number of unique users: {np.unique(dataset.user_id).shape[0]}\")"
      ],
      "execution_count": 9,
      "outputs": [
        {
          "output_type": "stream",
          "name": "stdout",
          "text": [
            "Number of unique users: 30755\n"
          ]
        }
      ]
    },
    {
      "cell_type": "code",
      "metadata": {
        "id": "nvuHww_VCqzS"
      },
      "source": [
        "parameters = {\n",
        "    \"iterations\": 150,\n",
        "    \"custom_metric\": [\"NDCG\", \"QueryAUC:type=Ranking\"],\n",
        "    \"random_seed\": 7,\n",
        "    \"loss_function\": \"YetiRank\",\n",
        "    \"allow_writing_files\": False,\n",
        "    \"verbose\": False,\n",
        "    \"metric_period\": 10,\n",
        "    \"task_type\": \"GPU\"\n",
        "}\n",
        "eval_iterations = [\n",
        "    i for i in range(parameters[\"iterations\"])\n",
        "    if i % parameters[\"metric_period\"] == 0] + [parameters[\"iterations\"] - 1\n",
        "]"
      ],
      "execution_count": 10,
      "outputs": []
    },
    {
      "cell_type": "code",
      "metadata": {
        "id": "AkAicuOh4Zsi",
        "outputId": "769993b1-66c1-4153-ae26-376cef88254f",
        "colab": {
          "base_uri": "https://localhost:8080/",
          "height": 396,
          "referenced_widgets": [
            "966c5a045dec4b63a35365e4da3556c3",
            "2f9c36d07d0440ae9d8020a337b1a5a0",
            "20dd66177054483f9562f17224f361c4",
            "a305b76515b3495c8a2f875811e70bee",
            "f1606481315147b593adf3967863884a",
            "3b7156b7504047668c0f532f6a7e82ea",
            "547de108fd3e4407b1bbb9c25fc5e1e9",
            "f5c02d56e7954d9ab381d2e3b3b40c54",
            "4836e198f8ab412bbee2c81acecec4f9",
            "5f8cb61dbb7441e494ba85d5652a9d89",
            "112549c9644e42e5b63f29792aa309d7"
          ]
        }
      },
      "source": [
        "N_FOLDS = 5\n",
        "\n",
        "scores = []\n",
        "for train, test in tqdm(dataset.fold_split(N_FOLDS), \"Cross-validation\", N_FOLDS):\n",
        "    train_pool = train.to_pool()\n",
        "    test_pool = test.to_pool()\n",
        "    model = CatBoostRanker(**parameters)\n",
        "    model.fit(train_pool, eval_set=test_pool)\n",
        "    scores.append(model.get_evals_result())"
      ],
      "execution_count": 11,
      "outputs": [
        {
          "output_type": "display_data",
          "data": {
            "application/vnd.jupyter.widget-view+json": {
              "model_id": "966c5a045dec4b63a35365e4da3556c3",
              "version_minor": 0,
              "version_major": 2
            },
            "text/plain": [
              "Cross-validation:   0%|          | 0/5 [00:00<?, ?it/s]"
            ]
          },
          "metadata": {}
        },
        {
          "output_type": "stream",
          "name": "stderr",
          "text": [
            "Metric PFound is not implemented on GPU. Will use CPU for metric computation, this could significantly affect learning time\n",
            "Metric PFound is not implemented on GPU. Will use CPU for metric computation, this could significantly affect learning time\n",
            "Metric NDCG:type=Base is not implemented on GPU. Will use CPU for metric computation, this could significantly affect learning time\n",
            "Metric QueryAUC:type=Ranking is not implemented on GPU. Will use CPU for metric computation, this could significantly affect learning time\n",
            "Metric PFound is not implemented on GPU. Will use CPU for metric computation, this could significantly affect learning time\n",
            "Metric PFound is not implemented on GPU. Will use CPU for metric computation, this could significantly affect learning time\n",
            "Metric NDCG:type=Base is not implemented on GPU. Will use CPU for metric computation, this could significantly affect learning time\n",
            "Metric QueryAUC:type=Ranking is not implemented on GPU. Will use CPU for metric computation, this could significantly affect learning time\n",
            "Metric PFound is not implemented on GPU. Will use CPU for metric computation, this could significantly affect learning time\n",
            "Metric PFound is not implemented on GPU. Will use CPU for metric computation, this could significantly affect learning time\n",
            "Metric NDCG:type=Base is not implemented on GPU. Will use CPU for metric computation, this could significantly affect learning time\n",
            "Metric QueryAUC:type=Ranking is not implemented on GPU. Will use CPU for metric computation, this could significantly affect learning time\n",
            "Metric PFound is not implemented on GPU. Will use CPU for metric computation, this could significantly affect learning time\n",
            "Metric PFound is not implemented on GPU. Will use CPU for metric computation, this could significantly affect learning time\n",
            "Metric NDCG:type=Base is not implemented on GPU. Will use CPU for metric computation, this could significantly affect learning time\n",
            "Metric QueryAUC:type=Ranking is not implemented on GPU. Will use CPU for metric computation, this could significantly affect learning time\n",
            "Metric PFound is not implemented on GPU. Will use CPU for metric computation, this could significantly affect learning time\n",
            "Metric PFound is not implemented on GPU. Will use CPU for metric computation, this could significantly affect learning time\n",
            "Metric NDCG:type=Base is not implemented on GPU. Will use CPU for metric computation, this could significantly affect learning time\n",
            "Metric QueryAUC:type=Ranking is not implemented on GPU. Will use CPU for metric computation, this could significantly affect learning time\n"
          ]
        }
      ]
    },
    {
      "cell_type": "code",
      "metadata": {
        "id": "v70WFSyCFT9-",
        "outputId": "b6e9539d-4738-45b7-c50e-68e88360d854",
        "colab": {
          "base_uri": "https://localhost:8080/",
          "height": 662
        }
      },
      "source": [
        "ndcgs = np.vstack([it[\"validation\"][\"NDCG:type=Base\"] for it in scores])\n",
        "m_ndcg = ndcgs.mean(axis=0)\n",
        "s_ndcg = ndcgs.std(axis=0)\n",
        "\n",
        "print(f\"Final NDCG: {round(m_ndcg[-1], 3)} ± {round(s_ndcg[-1], 3)}\")\n",
        "\n",
        "sns.set_theme(rc={\"figure.figsize\": (25, 10)})\n",
        "\n",
        "ax = sns.lineplot(x=eval_iterations, y=m_ndcg)\n",
        "ax.set_title(\"NDCG during model training\")\n",
        "ax.set_ylabel(\"Average NDCG per user\")\n",
        "ax.set_xlabel(\"Iteration\")\n",
        "ax.fill_between(x=eval_iterations, y1=m_ndcg - s_ndcg, y2=m_ndcg + s_ndcg, alpha=.5)"
      ],
      "execution_count": 12,
      "outputs": [
        {
          "output_type": "stream",
          "name": "stdout",
          "text": [
            "Final NDCG: 0.854 ± 0.002\n"
          ]
        },
        {
          "output_type": "execute_result",
          "data": {
            "text/plain": [
              "<matplotlib.collections.PolyCollection at 0x7f93b4a75150>"
            ]
          },
          "metadata": {},
          "execution_count": 12
        },
        {
          "output_type": "display_data",
          "data": {
            "image/png": "[encoded data removed]",
            "text/plain": [
              "<Figure size 1800x720 with 1 Axes>"
            ]
          },
          "metadata": {}
        }
      ]
    },
    {
      "cell_type": "code",
      "metadata": {
        "id": "BxLPfuiFK6TY",
        "outputId": "f0c1c47d-e214-4524-9839-260df3b9155e",
        "colab": {
          "base_uri": "https://localhost:8080/",
          "height": 662
        }
      },
      "source": [
        "iterations = [i * 10 for i in range(10)] + [99]\n",
        "\n",
        "aucs = np.vstack([it[\"validation\"][\"QueryAUC:type=Ranking\"] for it in scores])\n",
        "m_auc = aucs.mean(axis=0)\n",
        "s_auc = aucs.std(axis=0)\n",
        "\n",
        "print(f\"Final ROC-AUC per user: {round(m_auc[-1], 3)} ± {round(s_auc[-1], 3)}\")\n",
        "\n",
        "sns.set_theme(rc={\"figure.figsize\": (25, 10)})\n",
        "\n",
        "ax = sns.lineplot(x=eval_iterations, y=m_auc)\n",
        "ax.set_title(\"ROC-AUC per user during model training\")\n",
        "ax.set_ylabel(\"Average ROC-AUC per user\")\n",
        "ax.set_xlabel(\"Iteration\")\n",
        "ax.fill_between(x=eval_iterations, y1=m_auc - s_auc, y2=m_auc + s_auc, alpha=.5)"
      ],
      "execution_count": 13,
      "outputs": [
        {
          "output_type": "stream",
          "name": "stdout",
          "text": [
            "Final ROC-AUC per user: 0.561 ± 0.001\n"
          ]
        },
        {
          "output_type": "execute_result",
          "data": {
            "text/plain": [
              "<matplotlib.collections.PolyCollection at 0x7f93b1ae4590>"
            ]
          },
          "metadata": {},
          "execution_count": 13
        },
        {
          "output_type": "display_data",
          "data": {
            "image/png": "[encoded data removed]",
            "text/plain": [
              "<Figure size 1800x720 with 1 Axes>"
            ]
          },
          "metadata": {}
        }
      ]
    }
  ]
}